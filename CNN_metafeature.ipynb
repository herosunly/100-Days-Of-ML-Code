{
  "nbformat": 4,
  "nbformat_minor": 0,
  "metadata": {
    "colab": {
      "name": "CNN_metafeature.ipynb",
      "version": "0.3.2",
      "provenance": [],
      "collapsed_sections": [],
      "include_colab_link": true
    },
    "kernelspec": {
      "name": "python3",
      "display_name": "Python 3"
    },
    "accelerator": "TPU"
  },
  "cells": [
    {
      "cell_type": "markdown",
      "metadata": {
        "id": "view-in-github",
        "colab_type": "text"
      },
      "source": [
        "<a href=\"https://colab.research.google.com/github/herosunly/100-Days-Of-ML-Code/blob/master/CNN_metafeature.ipynb\" target=\"_parent\"><img src=\"https://colab.research.google.com/assets/colab-badge.svg\" alt=\"Open In Colab\"/></a>"
      ]
    },
    {
      "metadata": {
        "id": "S6ZKn1wYpLXv",
        "colab_type": "code",
        "colab": {}
      },
      "cell_type": "code",
      "source": [
        "import pandas as pd\n",
        "import numpy as np\n",
        "import os\n",
        "from tqdm import tqdm\n",
        "from sklearn.preprocessing import LabelBinarizer,LabelEncoder\n",
        "from sklearn.model_selection import StratifiedKFold"
      ],
      "execution_count": 0,
      "outputs": []
    },
    {
      "metadata": {
        "id": "Vb_HiFH0w9b7",
        "colab_type": "code",
        "outputId": "fc4c271d-d70c-47a1-ac10-5b2e353ae56e",
        "colab": {
          "base_uri": "https://localhost:8080/",
          "height": 129
        }
      },
      "cell_type": "code",
      "source": [
        "from google.colab import drive\n",
        "drive.mount('/content/drive')"
      ],
      "execution_count": 0,
      "outputs": [
        {
          "output_type": "stream",
          "text": [
            "Go to this URL in a browser: https://accounts.google.com/o/oauth2/auth?client_id=947318989803-6bn6qk8qdgf4n4g3pfee6491hc0brc4i.apps.googleusercontent.com&redirect_uri=urn%3Aietf%3Awg%3Aoauth%3A2.0%3Aoob&scope=email%20https%3A%2F%2Fwww.googleapis.com%2Fauth%2Fdocs.test%20https%3A%2F%2Fwww.googleapis.com%2Fauth%2Fdrive%20https%3A%2F%2Fwww.googleapis.com%2Fauth%2Fdrive.photos.readonly%20https%3A%2F%2Fwww.googleapis.com%2Fauth%2Fpeopleapi.readonly&response_type=code\n",
            "\n",
            "Enter your authorization code:\n",
            "··········\n",
            "Mounted at /content/drive\n"
          ],
          "name": "stdout"
        }
      ]
    },
    {
      "metadata": {
        "id": "l8n_PSGCpLYG",
        "colab_type": "code",
        "colab": {}
      },
      "cell_type": "code",
      "source": [
        "path = './drive/My Drive/data/'\n",
        "import pickle\n",
        "train_labels = pickle.load(open(path + 'train_label.pkl', 'rb'))\n",
        "train_seq = pickle.load(open(path + 'train_seq.pkl', 'rb'))\n",
        "test_seq = pickle.load(open(path + 'test_seq.pkl', 'rb'))"
      ],
      "execution_count": 0,
      "outputs": []
    },
    {
      "metadata": {
        "id": "83KJA5itpLap",
        "colab_type": "code",
        "colab": {}
      },
      "cell_type": "code",
      "source": [
        "import tensorflow as tf\n",
        "from tensorflow.keras.preprocessing.sequence import pad_sequences\n",
        "from tensorflow.keras.layers import Dense, Input, LSTM, Lambda, Embedding, Dropout, Activation,GRU,Bidirectional\n",
        "from tensorflow.keras.layers import Conv1D,Conv2D,MaxPooling2D,GlobalAveragePooling1D,GlobalMaxPooling1D, MaxPooling1D, Flatten\n",
        "from tensorflow.keras.layers import CuDNNGRU, CuDNNLSTM, SpatialDropout1D\n",
        "from tensorflow.keras.layers import concatenate, Concatenate, Average, Dot, Maximum, Multiply, Subtract, average\n",
        "from tensorflow.keras.models import Model\n",
        "from tensorflow.keras.optimizers import RMSprop,Adam\n",
        "from tensorflow.keras.layers import BatchNormalization\n",
        "from tensorflow.keras.callbacks import EarlyStopping, ModelCheckpoint\n",
        "from tensorflow.keras.optimizers import SGD\n",
        "from sklearn.decomposition import TruncatedSVD, NMF, LatentDirichletAllocation\n",
        "from tensorflow.keras.layers import SpatialDropout1D"
      ],
      "execution_count": 0,
      "outputs": []
    },
    {
      "metadata": {
        "id": "RG0cD6BypLa7",
        "colab_type": "code",
        "colab": {}
      },
      "cell_type": "code",
      "source": [
        "def TextCNN(max_len,max_cnt,embed_size,\n",
        "            num_filters,kernel_size,\n",
        "            conv_action,\n",
        "            mask_zero):\n",
        "    _input = Input(shape=(max_len,), dtype='int32')\n",
        "    _embed = Embedding(max_cnt, embed_size, input_length=max_len, mask_zero=mask_zero)(_input)\n",
        "    _embed = SpatialDropout1D(0.15)(_embed)\n",
        "    warppers = []\n",
        "    for _kernel_size in kernel_size:\n",
        "        conv1d = Conv1D(filters=num_filters, kernel_size=_kernel_size, activation=conv_action)(_embed)\n",
        "        warppers.append(GlobalMaxPooling1D()(conv1d))\n",
        "                        \n",
        "    fc = concatenate(warppers)\n",
        "    fc = Dropout(0.5)(fc)\n",
        "    #fc = BatchNormalization()(fc)\n",
        "    fc = Dense(256, activation='relu')(fc)\n",
        "    fc = Dropout(0.25)(fc)\n",
        "    #fc = BatchNormalization()(fc) \n",
        "    preds = Dense(8, activation = 'softmax')(fc)\n",
        "    \n",
        "    model = Model(inputs=_input, outputs=preds)\n",
        "    \n",
        "    #model.compile(loss='categorical_crossentropy',\n",
        "    #              optimizer='adam',\n",
        "    #              metrics=['accuracy'])\n",
        "    return model"
      ],
      "execution_count": 0,
      "outputs": []
    },
    {
      "metadata": {
        "id": "Vxb7WlvDpLbb",
        "colab_type": "code",
        "colab": {}
      },
      "cell_type": "code",
      "source": [
        "skf = StratifiedKFold(n_splits=5, shuffle=True, random_state=42)"
      ],
      "execution_count": 0,
      "outputs": []
    },
    {
      "metadata": {
        "id": "Rg8DjERhpLbn",
        "colab_type": "code",
        "colab": {}
      },
      "cell_type": "code",
      "source": [
        "max_len = 6000\n",
        "max_cnt = 302\n",
        "embed_size = 256\n",
        "num_filters = 64\n",
        "kernel_size = [2,4,6,8,10,12,14]\n",
        "conv_action = 'relu'\n",
        "mask_zero = False\n",
        "TRAIN = True"
      ],
      "execution_count": 0,
      "outputs": []
    },
    {
      "metadata": {
        "scrolled": false,
        "id": "UpUt4r5RpLbr",
        "colab_type": "code",
        "outputId": "56067722-e509-499c-90d3-dd4ade3994e3",
        "colab": {
          "base_uri": "https://localhost:8080/",
          "height": 3231
        }
      },
      "cell_type": "code",
      "source": [
        "import os\n",
        "import tensorflow as tf\n",
        "#os.environ[\"CUDA_VISIBLE_DEVICES\"] = \"0\"\n",
        "tf.logging.set_verbosity(0)\n",
        "meta_train = np.zeros(shape = (len(train_seq),8))\n",
        "meta_test = np.zeros(shape = (len(test_seq),8))\n",
        "FLAG = True\n",
        "print(train_seq.shape, test_seq.shape)\n",
        "for i,(tr_ind,te_ind) in enumerate(skf.split(train_seq, train_labels.argmax(1))):\n",
        "    print('FOLD: ', i)\n",
        "    print(len(te_ind),len(tr_ind))\n",
        "    model = TextCNN(max_len,max_cnt,embed_size,num_filters,kernel_size,conv_action,mask_zero)\n",
        "    model_name = 'benchmark_textcnn_fold_'+str(i)\n",
        "    X_train,X_train_label = train_seq[tr_ind],train_labels[tr_ind]\n",
        "    X_val,X_val_label = train_seq[te_ind],train_labels[te_ind]\n",
        "    model_save_path = path + 'model_weight_final/%s_%s.hdf5'%(model_name,embed_size)\n",
        "    early_stopping = EarlyStopping(monitor='val_loss', patience=3)\n",
        "    model_checkpoint = ModelCheckpoint(model_save_path, save_best_only=True, save_weights_only=True)\n",
        "\n",
        "    strategy = tf.contrib.tpu.TPUDistributionStrategy(\n",
        "        tf.contrib.cluster_resolver.TPUClusterResolver(tpu='grpc://' + os.environ['COLAB_TPU_ADDR']))\n",
        "    model = tf.contrib.tpu.keras_to_tpu_model(model, strategy)\n",
        "    model.compile(loss='categorical_crossentropy',\n",
        "                  optimizer='adam',\n",
        "                  metrics=['accuracy'])\n",
        "\n",
        "    if TRAIN and FLAG:\n",
        "        model.fit(X_train,X_train_label,\n",
        "                  validation_data=(X_val,X_val_label),\n",
        "                  epochs=100,batch_size=128,\n",
        "                  shuffle=True,\n",
        "                  callbacks=[early_stopping]\n",
        "                 )\n",
        "    \n",
        "    #model.load_weights(model_save_path)\n",
        "    model.save_weights('/tmp/%s.h5' % model_name, overwrite=True)\n",
        "    cpu_model = model.sync_to_cpu()\n",
        "    pred_val = cpu_model.predict(X_val, batch_size=64, verbose=1)\n",
        "    pred_test = cpu_model.predict(test_seq, batch_size=64, verbose=1)\n",
        "    \n",
        "    meta_train[te_ind] = pred_val\n",
        "    meta_test += pred_test\n",
        "    tf.keras.backend.clear_session()\n",
        "meta_test /= 5.0\n"
      ],
      "execution_count": 0,
      "outputs": [
        {
          "output_type": "stream",
          "text": [
            "(13887, 6000) (12955, 6000)\n",
            "FOLD:  0\n",
            "2780 11107\n",
            "WARNING:tensorflow:tpu_model (from tensorflow.contrib.tpu.python.tpu.keras_support) is experimental and may change or be removed at any time, and without warning.\n",
            "Train on 11107 samples, validate on 2780 samples\n",
            "Epoch 1/100\n",
            "WARNING:tensorflow:Cannot update non-variable config: epsilon\n",
            "WARNING:tensorflow:Cannot update non-variable config: amsgrad\n",
            "11107/11107 [==============================] - 330s 30ms/step - loss: 0.9508 - acc: 0.6787 - val_loss: 0.5115 - val_acc: 0.8369\n",
            "Epoch 2/100\n",
            "11107/11107 [==============================] - 9s 855us/step - loss: 0.5170 - acc: 0.8372 - val_loss: 0.4298 - val_acc: 0.8578\n",
            "Epoch 3/100\n",
            "11107/11107 [==============================] - 9s 837us/step - loss: 0.4347 - acc: 0.8607 - val_loss: 0.4084 - val_acc: 0.8642\n",
            "Epoch 4/100\n",
            "11107/11107 [==============================] - 9s 850us/step - loss: 0.3895 - acc: 0.8759 - val_loss: 0.4254 - val_acc: 0.8621\n",
            "Epoch 5/100\n",
            "11107/11107 [==============================] - 9s 823us/step - loss: 0.3759 - acc: 0.8801 - val_loss: 0.4083 - val_acc: 0.8671\n",
            "Epoch 6/100\n",
            "11107/11107 [==============================] - 9s 845us/step - loss: 0.3435 - acc: 0.8857 - val_loss: 0.3672 - val_acc: 0.8851\n",
            "Epoch 7/100\n",
            "11107/11107 [==============================] - 9s 848us/step - loss: 0.3338 - acc: 0.8903 - val_loss: 0.3643 - val_acc: 0.8855\n",
            "Epoch 8/100\n",
            "11107/11107 [==============================] - 9s 820us/step - loss: 0.3120 - acc: 0.8973 - val_loss: 0.3466 - val_acc: 0.8920\n",
            "Epoch 9/100\n",
            "11107/11107 [==============================] - 9s 827us/step - loss: 0.3033 - acc: 0.8986 - val_loss: 0.3465 - val_acc: 0.8902\n",
            "Epoch 10/100\n",
            "11107/11107 [==============================] - 9s 846us/step - loss: 0.2884 - acc: 0.9034 - val_loss: 0.3643 - val_acc: 0.8829\n",
            "Epoch 11/100\n",
            "11107/11107 [==============================] - 9s 844us/step - loss: 0.2739 - acc: 0.9086 - val_loss: 0.3790 - val_acc: 0.8808\n",
            "Epoch 12/100\n",
            "11107/11107 [==============================] - 9s 831us/step - loss: 0.2649 - acc: 0.9093 - val_loss: 0.3584 - val_acc: 0.8876\n",
            "WARNING:tensorflow:Cannot update non-variable config: epsilon\n",
            "WARNING:tensorflow:Cannot update non-variable config: amsgrad\n",
            "WARNING:tensorflow:Cannot update non-variable config: epsilon\n",
            "WARNING:tensorflow:Cannot update non-variable config: amsgrad\n",
            "2780/2780 [==============================] - 48s 17ms/step\n",
            "12955/12955 [==============================] - 134s 10ms/step\n",
            "FOLD:  1\n",
            "2779 11108\n",
            "WARNING:tensorflow:tpu_model (from tensorflow.contrib.tpu.python.tpu.keras_support) is experimental and may change or be removed at any time, and without warning.\n",
            "Train on 11108 samples, validate on 2779 samples\n",
            "Epoch 1/100\n",
            "WARNING:tensorflow:Cannot update non-variable config: epsilon\n",
            "WARNING:tensorflow:Cannot update non-variable config: amsgrad\n",
            "11108/11108 [==============================] - 55s 5ms/step - loss: 0.9469 - acc: 0.6865 - val_loss: 0.4709 - val_acc: 0.8570\n",
            "Epoch 2/100\n",
            "11108/11108 [==============================] - 9s 822us/step - loss: 0.5339 - acc: 0.8337 - val_loss: 0.3975 - val_acc: 0.8782\n",
            "Epoch 3/100\n",
            "11108/11108 [==============================] - 9s 825us/step - loss: 0.4397 - acc: 0.8601 - val_loss: 0.4081 - val_acc: 0.8696\n",
            "Epoch 4/100\n",
            "11108/11108 [==============================] - 9s 819us/step - loss: 0.4105 - acc: 0.8656 - val_loss: 0.3590 - val_acc: 0.8883\n",
            "Epoch 5/100\n",
            "11108/11108 [==============================] - 9s 807us/step - loss: 0.3729 - acc: 0.8795 - val_loss: 0.3435 - val_acc: 0.8926\n",
            "Epoch 6/100\n",
            "11108/11108 [==============================] - 9s 812us/step - loss: 0.3495 - acc: 0.8846 - val_loss: 0.3366 - val_acc: 0.8951\n",
            "Epoch 7/100\n",
            "11108/11108 [==============================] - 9s 813us/step - loss: 0.3349 - acc: 0.8900 - val_loss: 0.3235 - val_acc: 0.8977\n",
            "Epoch 8/100\n",
            "11108/11108 [==============================] - 9s 821us/step - loss: 0.3206 - acc: 0.8918 - val_loss: 0.3087 - val_acc: 0.9045\n",
            "Epoch 9/100\n",
            "11108/11108 [==============================] - 9s 812us/step - loss: 0.2997 - acc: 0.8977 - val_loss: 0.3087 - val_acc: 0.9023\n",
            "Epoch 10/100\n",
            "11108/11108 [==============================] - 9s 828us/step - loss: 0.2922 - acc: 0.8988 - val_loss: 0.3159 - val_acc: 0.9027\n",
            "Epoch 11/100\n",
            "11108/11108 [==============================] - 9s 825us/step - loss: 0.2798 - acc: 0.9062 - val_loss: 0.3119 - val_acc: 0.9081\n",
            "Epoch 12/100\n",
            "11108/11108 [==============================] - 9s 823us/step - loss: 0.2789 - acc: 0.9048 - val_loss: 0.3183 - val_acc: 0.9067\n",
            "WARNING:tensorflow:Cannot update non-variable config: epsilon\n",
            "WARNING:tensorflow:Cannot update non-variable config: amsgrad\n",
            "WARNING:tensorflow:Cannot update non-variable config: epsilon\n",
            "WARNING:tensorflow:Cannot update non-variable config: amsgrad\n",
            "2779/2779 [==============================] - 36s 13ms/step\n",
            "12955/12955 [==============================] - 162s 12ms/step\n",
            "FOLD:  2\n",
            "2777 11110\n",
            "WARNING:tensorflow:tpu_model (from tensorflow.contrib.tpu.python.tpu.keras_support) is experimental and may change or be removed at any time, and without warning.\n",
            "Train on 11110 samples, validate on 2777 samples\n",
            "Epoch 1/100\n",
            "WARNING:tensorflow:Cannot update non-variable config: epsilon\n",
            "WARNING:tensorflow:Cannot update non-variable config: amsgrad\n",
            "11110/11110 [==============================] - 89s 8ms/step - loss: 0.9656 - acc: 0.6860 - val_loss: 0.5205 - val_acc: 0.8368\n",
            "Epoch 2/100\n",
            "11110/11110 [==============================] - 9s 832us/step - loss: 0.5178 - acc: 0.8427 - val_loss: 0.4513 - val_acc: 0.8512\n",
            "Epoch 3/100\n",
            "11110/11110 [==============================] - 9s 829us/step - loss: 0.4410 - acc: 0.8612 - val_loss: 0.4090 - val_acc: 0.8732\n",
            "Epoch 4/100\n",
            "11110/11110 [==============================] - 9s 812us/step - loss: 0.3965 - acc: 0.8717 - val_loss: 0.3847 - val_acc: 0.8772\n",
            "Epoch 5/100\n",
            "11110/11110 [==============================] - 9s 808us/step - loss: 0.3681 - acc: 0.8810 - val_loss: 0.3742 - val_acc: 0.8862\n",
            "Epoch 6/100\n",
            "11110/11110 [==============================] - 9s 804us/step - loss: 0.3518 - acc: 0.8870 - val_loss: 0.3509 - val_acc: 0.8862\n",
            "Epoch 7/100\n",
            "11110/11110 [==============================] - 9s 811us/step - loss: 0.3193 - acc: 0.8950 - val_loss: 0.3581 - val_acc: 0.8916\n",
            "Epoch 8/100\n",
            "11110/11110 [==============================] - 9s 798us/step - loss: 0.3122 - acc: 0.8972 - val_loss: 0.3621 - val_acc: 0.8977\n",
            "Epoch 9/100\n",
            "11110/11110 [==============================] - 9s 807us/step - loss: 0.2953 - acc: 0.9007 - val_loss: 0.3746 - val_acc: 0.8847\n",
            "WARNING:tensorflow:Cannot update non-variable config: epsilon\n",
            "WARNING:tensorflow:Cannot update non-variable config: amsgrad\n",
            "WARNING:tensorflow:Cannot update non-variable config: epsilon\n",
            "WARNING:tensorflow:Cannot update non-variable config: amsgrad\n",
            "2777/2777 [==============================] - 30s 11ms/step\n",
            "12955/12955 [==============================] - 137s 11ms/step\n",
            "FOLD:  3\n",
            "2776 11111\n",
            "WARNING:tensorflow:tpu_model (from tensorflow.contrib.tpu.python.tpu.keras_support) is experimental and may change or be removed at any time, and without warning.\n",
            "Train on 11111 samples, validate on 2776 samples\n",
            "Epoch 1/100\n",
            "WARNING:tensorflow:Cannot update non-variable config: epsilon\n",
            "WARNING:tensorflow:Cannot update non-variable config: amsgrad\n",
            "11111/11111 [==============================] - 59s 5ms/step - loss: 0.9513 - acc: 0.6853 - val_loss: 0.5675 - val_acc: 0.8220\n",
            "Epoch 2/100\n",
            "11111/11111 [==============================] - 9s 842us/step - loss: 0.5162 - acc: 0.8365 - val_loss: 0.5378 - val_acc: 0.8246\n",
            "Epoch 3/100\n",
            "11111/11111 [==============================] - 9s 804us/step - loss: 0.4410 - acc: 0.8578 - val_loss: 0.4623 - val_acc: 0.8570\n",
            "Epoch 4/100\n",
            "11111/11111 [==============================] - 9s 819us/step - loss: 0.3999 - acc: 0.8734 - val_loss: 0.4432 - val_acc: 0.8728\n",
            "Epoch 5/100\n",
            "11111/11111 [==============================] - 9s 819us/step - loss: 0.3708 - acc: 0.8792 - val_loss: 0.4362 - val_acc: 0.8718\n",
            "Epoch 6/100\n",
            "11111/11111 [==============================] - 9s 794us/step - loss: 0.3477 - acc: 0.8854 - val_loss: 0.4145 - val_acc: 0.8739\n",
            "Epoch 7/100\n",
            "11111/11111 [==============================] - 9s 805us/step - loss: 0.3199 - acc: 0.8958 - val_loss: 0.3959 - val_acc: 0.8872\n",
            "Epoch 8/100\n",
            "11111/11111 [==============================] - 9s 817us/step - loss: 0.3009 - acc: 0.9000 - val_loss: 0.4019 - val_acc: 0.8912\n",
            "Epoch 9/100\n",
            "11111/11111 [==============================] - 9s 817us/step - loss: 0.2929 - acc: 0.9025 - val_loss: 0.4217 - val_acc: 0.8869\n",
            "Epoch 10/100\n",
            "11111/11111 [==============================] - 9s 811us/step - loss: 0.2873 - acc: 0.9037 - val_loss: 0.3866 - val_acc: 0.8869\n",
            "Epoch 11/100\n",
            "11111/11111 [==============================] - 9s 806us/step - loss: 0.2726 - acc: 0.9077 - val_loss: 0.3690 - val_acc: 0.8912\n",
            "Epoch 12/100\n",
            "11111/11111 [==============================] - 9s 819us/step - loss: 0.2584 - acc: 0.9128 - val_loss: 0.4034 - val_acc: 0.8815\n",
            "Epoch 13/100\n",
            "11111/11111 [==============================] - 9s 823us/step - loss: 0.2488 - acc: 0.9160 - val_loss: 0.3798 - val_acc: 0.8876\n",
            "Epoch 14/100\n",
            "11111/11111 [==============================] - 9s 821us/step - loss: 0.2455 - acc: 0.9156 - val_loss: 0.3873 - val_acc: 0.8923\n",
            "WARNING:tensorflow:Cannot update non-variable config: epsilon\n",
            "WARNING:tensorflow:Cannot update non-variable config: amsgrad\n",
            "WARNING:tensorflow:Cannot update non-variable config: epsilon\n",
            "WARNING:tensorflow:Cannot update non-variable config: amsgrad\n",
            "2776/2776 [==============================] - 31s 11ms/step\n",
            "12955/12955 [==============================] - 139s 11ms/step\n",
            "FOLD:  4\n",
            "2775 11112\n",
            "WARNING:tensorflow:tpu_model (from tensorflow.contrib.tpu.python.tpu.keras_support) is experimental and may change or be removed at any time, and without warning.\n",
            "Train on 11112 samples, validate on 2775 samples\n",
            "Epoch 1/100\n",
            "WARNING:tensorflow:Cannot update non-variable config: epsilon\n",
            "WARNING:tensorflow:Cannot update non-variable config: amsgrad\n",
            "11112/11112 [==============================] - 58s 5ms/step - loss: 0.9564 - acc: 0.6851 - val_loss: 0.5100 - val_acc: 0.8374\n",
            "Epoch 2/100\n",
            "11112/11112 [==============================] - 9s 829us/step - loss: 0.5161 - acc: 0.8394 - val_loss: 0.4439 - val_acc: 0.8569\n",
            "Epoch 3/100\n",
            "11112/11112 [==============================] - 9s 799us/step - loss: 0.4315 - acc: 0.8654 - val_loss: 0.4629 - val_acc: 0.8620\n",
            "Epoch 4/100\n",
            "11112/11112 [==============================] - 9s 806us/step - loss: 0.3881 - acc: 0.8793 - val_loss: 0.4046 - val_acc: 0.8692\n",
            "Epoch 5/100\n",
            "11112/11112 [==============================] - 9s 825us/step - loss: 0.3617 - acc: 0.8884 - val_loss: 0.4133 - val_acc: 0.8713\n",
            "Epoch 6/100\n",
            "11112/11112 [==============================] - 9s 799us/step - loss: 0.3457 - acc: 0.8898 - val_loss: 0.3792 - val_acc: 0.8764\n",
            "Epoch 7/100\n",
            "11112/11112 [==============================] - 9s 820us/step - loss: 0.3235 - acc: 0.8961 - val_loss: 0.3646 - val_acc: 0.8825\n",
            "Epoch 8/100\n",
            "11112/11112 [==============================] - 9s 820us/step - loss: 0.3089 - acc: 0.8997 - val_loss: 0.3686 - val_acc: 0.8793\n",
            "Epoch 9/100\n",
            "11112/11112 [==============================] - 9s 806us/step - loss: 0.2900 - acc: 0.9049 - val_loss: 0.3727 - val_acc: 0.8804\n",
            "Epoch 10/100\n",
            "11112/11112 [==============================] - 9s 809us/step - loss: 0.2782 - acc: 0.9068 - val_loss: 0.3824 - val_acc: 0.8829\n",
            "WARNING:tensorflow:Cannot update non-variable config: epsilon\n",
            "WARNING:tensorflow:Cannot update non-variable config: amsgrad\n",
            "WARNING:tensorflow:Cannot update non-variable config: epsilon\n",
            "WARNING:tensorflow:Cannot update non-variable config: amsgrad\n",
            "2775/2775 [==============================] - 31s 11ms/step\n",
            "12955/12955 [==============================] - 138s 11ms/step\n"
          ],
          "name": "stdout"
        }
      ]
    },
    {
      "metadata": {
        "id": "EuRCO0KxpLbw",
        "colab_type": "code",
        "colab": {}
      },
      "cell_type": "code",
      "source": [
        "pd.to_pickle(meta_train, path + 'train_meta_cnn.pkl')\n",
        "pd.to_pickle(meta_test, path + 'test_meta_cnn.pkl')"
      ],
      "execution_count": 0,
      "outputs": []
    },
    {
      "metadata": {
        "id": "TthDyXaUpLb4",
        "colab_type": "code",
        "colab": {}
      },
      "cell_type": "code",
      "source": [
        "%pwd"
      ],
      "execution_count": 0,
      "outputs": []
    },
    {
      "metadata": {
        "id": "9LIJdd7WpLcG",
        "colab_type": "code",
        "colab": {}
      },
      "cell_type": "code",
      "source": [
        ""
      ],
      "execution_count": 0,
      "outputs": []
    }
  ]
}